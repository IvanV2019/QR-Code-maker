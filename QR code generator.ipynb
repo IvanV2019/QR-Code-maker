{
 "cells": [
  {
   "cell_type": "code",
   "execution_count": 1,
   "id": "9ebd6689",
   "metadata": {},
   "outputs": [],
   "source": [
    "import qrcode"
   ]
  },
  {
   "cell_type": "code",
   "execution_count": null,
   "id": "d7942e22",
   "metadata": {},
   "outputs": [],
   "source": [
    "url = input('Please input the website: ')"
   ]
  },
  {
   "cell_type": "code",
   "execution_count": 3,
   "id": "649d8b3f",
   "metadata": {},
   "outputs": [],
   "source": [
    "img = qrcode.make(url)"
   ]
  },
  {
   "cell_type": "code",
   "execution_count": 4,
   "id": "296b875b",
   "metadata": {},
   "outputs": [],
   "source": [
    "img.save('MyQRcode.png')"
   ]
  },
  {
   "cell_type": "code",
   "execution_count": null,
   "id": "525f9adf",
   "metadata": {},
   "outputs": [],
   "source": []
  }
 ],
 "metadata": {
  "kernelspec": {
   "display_name": "Python 3 (ipykernel)",
   "language": "python",
   "name": "python3"
  },
  "language_info": {
   "codemirror_mode": {
    "name": "ipython",
    "version": 3
   },
   "file_extension": ".py",
   "mimetype": "text/x-python",
   "name": "python",
   "nbconvert_exporter": "python",
   "pygments_lexer": "ipython3",
   "version": "3.9.12"
  }
 },
 "nbformat": 4,
 "nbformat_minor": 5
}
